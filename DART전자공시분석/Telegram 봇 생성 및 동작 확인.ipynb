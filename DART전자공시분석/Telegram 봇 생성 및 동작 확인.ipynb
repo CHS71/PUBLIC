{
 "cells": [
  {
   "cell_type": "code",
   "execution_count": 1,
   "metadata": {},
   "outputs": [
    {
     "data": {
      "text/plain": [
       "{'ok': True,\n",
       " 'result': {'id': 872703060,\n",
       "  'is_bot': True,\n",
       "  'first_name': 'FinanceData_bot',\n",
       "  'username': 'financeAlert_bot'}}"
      ]
     },
     "execution_count": 1,
     "metadata": {},
     "output_type": "execute_result"
    }
   ],
   "source": [
    "# getMe : bot에 대한 정보를 얻는다. 봇의 동작 확인\n",
    "import requests\n",
    "import json\n",
    "\n",
    "API_TOKEN = ''\n",
    "url = \"https://api.telegram.org/bot%s/getme\" % API_TOKEN\n",
    "\n",
    "r = requests.get(url)\n",
    "result = json.loads(r.text)\n",
    "result"
   ]
  },
  {
   "cell_type": "code",
   "execution_count": 3,
   "metadata": {},
   "outputs": [
    {
     "data": {
      "text/plain": [
       "{'ok': True,\n",
       " 'result': [{'update_id': 246036426,\n",
       "   'message': {'message_id': 135,\n",
       "    'from': {'id': 868118183,\n",
       "     'is_bot': False,\n",
       "     'first_name': '호성',\n",
       "     'last_name': '차',\n",
       "     'language_code': 'ko'},\n",
       "    'chat': {'id': 868118183,\n",
       "     'first_name': '호성',\n",
       "     'last_name': '차',\n",
       "     'type': 'private'},\n",
       "    'date': 1564031038,\n",
       "    'text': '/start',\n",
       "    'entities': [{'offset': 0, 'length': 6, 'type': 'bot_command'}]}}]}"
      ]
     },
     "execution_count": 3,
     "metadata": {},
     "output_type": "execute_result"
    }
   ],
   "source": [
    "#getUpdates :봇 URL ( https://telegram.me/financeAlert_bot )에 접속하여 /start 명령을 보낸다.\n",
    "# getMe : bot에 대한 정보를 얻는다. 봇의 동작 확인\n",
    "\n",
    "url = \"https://api.telegram.org/bot%s/getUpdates\" % API_TOKEN\n",
    "\n",
    "r = requests.get(url)\n",
    "result = json.loads(r.text)\n",
    "result"
   ]
  },
  {
   "cell_type": "code",
   "execution_count": 4,
   "metadata": {},
   "outputs": [
    {
     "data": {
      "text/plain": [
       "{'ok': True,\n",
       " 'result': {'message_id': 136,\n",
       "  'from': {'id': 872703060,\n",
       "   'is_bot': True,\n",
       "   'first_name': 'FinanceData_bot',\n",
       "   'username': 'financeAlert_bot'},\n",
       "  'chat': {'id': 868118183,\n",
       "   'first_name': '호성',\n",
       "   'last_name': '차',\n",
       "   'type': 'private'},\n",
       "  'date': 1564031082,\n",
       "  'text': '안녕하세요? financeAlert_bot 챗봇입니다'}}"
      ]
     },
     "execution_count": 4,
     "metadata": {},
     "output_type": "execute_result"
    }
   ],
   "source": [
    "chat_id = \"\"\n",
    "chat_text = \"안녕하세요? financeAlert_bot 챗봇입니다\"\n",
    "\n",
    "url = \"https://api.telegram.org/bot%s/sendMessage?chat_id=%s&text=%s\" % (API_TOKEN, chat_id,  chat_text)\n",
    "r = requests.get(url)\n",
    "result = json.loads(r.text)\n",
    "result"
   ]
  }
 ],
 "metadata": {
  "kernelspec": {
   "display_name": "Python 3",
   "language": "python",
   "name": "python3"
  },
  "language_info": {
   "codemirror_mode": {
    "name": "ipython",
    "version": 3
   },
   "file_extension": ".py",
   "mimetype": "text/x-python",
   "name": "python",
   "nbconvert_exporter": "python",
   "pygments_lexer": "ipython3",
   "version": "3.7.3"
  }
 },
 "nbformat": 4,
 "nbformat_minor": 2
}
