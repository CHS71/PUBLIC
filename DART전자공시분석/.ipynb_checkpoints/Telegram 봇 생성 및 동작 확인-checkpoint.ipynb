{
 "cells": [
  {
   "cell_type": "code",
   "execution_count": null,
   "metadata": {},
   "outputs": [],
   "source": [
    "# getMe : bot에 대한 정보를 얻는다. 봇의 동작 확인\n",
    "import requests\n",
    "import json\n",
    "\n",
    "API_TOKEN = ''\n",
    "url = \"https://api.telegram.org/bot%s/getme\" % API_TOKEN\n",
    "\n",
    "r = requests.get(url)\n",
    "result = json.loads(r.text)\n",
    "result"
   ]
  },
  {
   "cell_type": "code",
   "execution_count": null,
   "metadata": {},
   "outputs": [],
   "source": [
    "#getUpdates :봇 URL ( https://telegram.me/financeAlert_bot )에 접속하여 /start 명령을 보낸다.\n",
    "# getMe : bot에 대한 정보를 얻는다. 봇의 동작 확인\n",
    "\n",
    "url = \"https://api.telegram.org/bot%s/getUpdates\" % API_TOKEN\n",
    "\n",
    "r = requests.get(url)\n",
    "result = json.loads(r.text)\n",
    "result"
   ]
  },
  {
   "cell_type": "code",
   "execution_count": null,
   "metadata": {},
   "outputs": [],
   "source": [
    "chat_id = \"\"\n",
    "chat_text = \"안녕하세요? financeAlert_bot 챗봇입니다\"\n",
    "\n",
    "url = \"https://api.telegram.org/bot%s/sendMessage?chat_id=%s&text=%s\" % (API_TOKEN, chat_id,  chat_text)\n",
    "r = requests.get(url)\n",
    "result = json.loads(r.text)\n",
    "result"
   ]
  }
 ],
 "metadata": {
  "kernelspec": {
   "display_name": "Python 3",
   "language": "python",
   "name": "python3"
  },
  "language_info": {
   "codemirror_mode": {
    "name": "ipython",
    "version": 3
   },
   "file_extension": ".py",
   "mimetype": "text/x-python",
   "name": "python",
   "nbconvert_exporter": "python",
   "pygments_lexer": "ipython3",
   "version": "3.7.3"
  }
 },
 "nbformat": 4,
 "nbformat_minor": 2
}
